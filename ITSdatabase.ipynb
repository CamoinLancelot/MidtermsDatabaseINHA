{
  "nbformat": 4,
  "nbformat_minor": 0,
  "metadata": {
    "colab": {
      "provenance": [],
      "authorship_tag": "ABX9TyN8OXGjrOHnhsRpQtPHDNY/",
      "include_colab_link": true
    },
    "kernelspec": {
      "name": "python3",
      "display_name": "Python 3"
    },
    "language_info": {
      "name": "python"
    }
  },
  "cells": [
    {
      "cell_type": "markdown",
      "metadata": {
        "id": "view-in-github",
        "colab_type": "text"
      },
      "source": [
        "<a href=\"https://colab.research.google.com/github/CamoinLancelot/MidtermsDatabaseINHA/blob/main/ITSdatabase.ipynb\" target=\"_parent\"><img src=\"https://colab.research.google.com/assets/colab-badge.svg\" alt=\"Open In Colab\"/></a>"
      ]
    },
    {
      "cell_type": "code",
      "execution_count": 92,
      "metadata": {
        "id": "G1M2kuUu_dwr"
      },
      "outputs": [],
      "source": [
        "from sqlalchemy import create_engine\n",
        "my_conn=create_engine(\"sqlite:////content/ITS_Database.db\")"
      ]
    },
    {
      "cell_type": "code",
      "source": [
        "conn=my_conn.connect()\n"
      ],
      "metadata": {
        "id": "FH3sArosAZ8S"
      },
      "execution_count": 93,
      "outputs": []
    },
    {
      "cell_type": "code",
      "source": [
        "create = my_conn.execute(''' CREATE TABLE country (\n",
        "    countryid INTEGER NOT NULL,\n",
        "    name      VARCHAR2(20) NOT NULL,\n",
        "    PRIMARY KEY (countryid)\n",
        ")''')"
      ],
      "metadata": {
        "id": "jcg-gtLf88lq"
      },
      "execution_count": 94,
      "outputs": []
    },
    {
      "cell_type": "code",
      "source": [
        "insert = my_conn.execute (''' insert into 'country' ('countryid','name') values\n",
        "  ('1','South Korea'),\n",
        "  ('2','France'),\n",
        "  ('3','United-Kingdoms'),\n",
        "  ('4','USA')\n",
        "  ''')"
      ],
      "metadata": {
        "id": "z8-DbzSjHJd4"
      },
      "execution_count": 112,
      "outputs": []
    },
    {
      "cell_type": "code",
      "source": [
        "create = my_conn.execute(''' CREATE TABLE city \n",
        "    (\n",
        "     id INTEGER NOT NULL , \n",
        "     citycode CHAR (8) NOT NULL , \n",
        "     countryid INTEGER NOT NULL ,\n",
        "     PRIMARY KEY (id),\n",
        "     FOREIGN KEY ( countryid ) REFERENCES country ( countryid )\n",
        "    )''')"
      ],
      "metadata": {
        "id": "UCglwUGGHB54"
      },
      "execution_count": 95,
      "outputs": []
    },
    {
      "cell_type": "code",
      "source": [
        "create = my_conn.execute('''CREATE TABLE language \n",
        "    (\n",
        "     id INTEGER NOT NULL , \n",
        "     languagename VARCHAR NOT NULL , \n",
        "     \"ISO3166-1\" CHAR (2) ,\n",
        "     PRIMARY KEY (id)\n",
        "    )''')"
      ],
      "metadata": {
        "id": "5tMaqf3cLIGW",
        "colab": {
          "base_uri": "https://localhost:8080/"
        },
        "outputId": "bb988ce1-e111-4ba7-911c-006bbdcf64f5"
      },
      "execution_count": 96,
      "outputs": [
        {
          "output_type": "stream",
          "name": "stderr",
          "text": [
            "ERROR:sqlalchemy.pool.impl.NullPool:Exception during reset or similar\n",
            "Traceback (most recent call last):\n",
            "  File \"/usr/local/lib/python3.7/dist-packages/sqlalchemy/pool/base.py\", line 753, in _finalize_fairy\n",
            "    fairy._reset(pool)\n",
            "  File \"/usr/local/lib/python3.7/dist-packages/sqlalchemy/pool/base.py\", line 1004, in _reset\n",
            "    pool._dialect.do_rollback(self)\n",
            "  File \"/usr/local/lib/python3.7/dist-packages/sqlalchemy/engine/default.py\", line 683, in do_rollback\n",
            "    dbapi_connection.rollback()\n",
            "sqlite3.ProgrammingError: SQLite objects created in a thread can only be used in that same thread. The object was created in thread id 140081804199808 and this is thread id 140081381668608.\n",
            "ERROR:sqlalchemy.pool.impl.NullPool:Exception closing connection <sqlite3.Connection object at 0x7f673be85650>\n",
            "Traceback (most recent call last):\n",
            "  File \"/usr/local/lib/python3.7/dist-packages/sqlalchemy/pool/base.py\", line 753, in _finalize_fairy\n",
            "    fairy._reset(pool)\n",
            "  File \"/usr/local/lib/python3.7/dist-packages/sqlalchemy/pool/base.py\", line 1004, in _reset\n",
            "    pool._dialect.do_rollback(self)\n",
            "  File \"/usr/local/lib/python3.7/dist-packages/sqlalchemy/engine/default.py\", line 683, in do_rollback\n",
            "    dbapi_connection.rollback()\n",
            "sqlite3.ProgrammingError: SQLite objects created in a thread can only be used in that same thread. The object was created in thread id 140081804199808 and this is thread id 140081381668608.\n",
            "\n",
            "During handling of the above exception, another exception occurred:\n",
            "\n",
            "Traceback (most recent call last):\n",
            "  File \"/usr/local/lib/python3.7/dist-packages/sqlalchemy/pool/base.py\", line 255, in _close_connection\n",
            "    self._dialect.do_terminate(connection)\n",
            "  File \"/usr/local/lib/python3.7/dist-packages/sqlalchemy/engine/default.py\", line 689, in do_terminate\n",
            "    self.do_close(dbapi_connection)\n",
            "  File \"/usr/local/lib/python3.7/dist-packages/sqlalchemy/engine/default.py\", line 692, in do_close\n",
            "    dbapi_connection.close()\n",
            "sqlite3.ProgrammingError: SQLite objects created in a thread can only be used in that same thread. The object was created in thread id 140081804199808 and this is thread id 140081381668608.\n"
          ]
        }
      ]
    },
    {
      "cell_type": "code",
      "source": [
        "create = my_conn.execute(''' CREATE TABLE country_language \n",
        "    (\n",
        "     language_id INTEGER NOT NULL , \n",
        "     country_countryid INTEGER NOT NULL ,\n",
        "     FOREIGN KEY ( country_countryid ) REFERENCES country ( countryid ),\n",
        "     FOREIGN KEY ( language_id ) REFERENCES language ( id )\n",
        "    )''')"
      ],
      "metadata": {
        "id": "Bv1xkMOhHa2Q"
      },
      "execution_count": 97,
      "outputs": []
    },
    {
      "cell_type": "code",
      "source": [
        "create = my_conn.execute(''' CREATE TABLE driver \n",
        "    (\n",
        "     id INTEGER NOT NULL , \n",
        "     name VARCHAR NOT NULL , \n",
        "     licensenum CHAR (18) NOT NULL , \n",
        "     clearancelvl INTEGER NOT NULL check (clearancelvl <=4 and clearancelvl >=1), \n",
        "     language_id INTEGER NOT NULL ,\n",
        "     PRIMARY KEY (id),\n",
        "     FOREIGN KEY ( language_id ) REFERENCES language ( id )\n",
        "    )''')"
      ],
      "metadata": {
        "id": "RkKmG9IjHvlH"
      },
      "execution_count": 98,
      "outputs": []
    },
    {
      "cell_type": "code",
      "source": [
        "create = my_conn.execute(''' CREATE TABLE game_official \n",
        "    (\n",
        "     id INTEGER NOT NULL , \n",
        "     name VARCHAR NOT NULL , \n",
        "     role VARCHAR , \n",
        "     language_id INTEGER NOT NULL , \n",
        "     country_countryid INTEGER NOT NULL ,\n",
        "     PRIMARY KEY (id),\n",
        "     FOREIGN KEY ( country_countryid ) REFERENCES country ( countryid ),\n",
        "     FOREIGN KEY ( language_id ) REFERENCES language ( id )\n",
        "    )''')"
      ],
      "metadata": {
        "id": "q96RZo6PKbzz"
      },
      "execution_count": 99,
      "outputs": []
    },
    {
      "cell_type": "code",
      "source": [
        "create = my_conn.execute('''CREATE TABLE IF NOT EXISTS booking \n",
        "    (\n",
        "     refNumber INTEGER NOT NULL , \n",
        "     start DATETIME NOT NULL , \n",
        "     \"end\" DATETIME NOT NULL , \n",
        "     startOdometer INTEGER , \n",
        "     endOdometer INTEGER ,\n",
        "     driver_id INTEGER ,\n",
        "     game_official_id INTEGER,\n",
        "     PRIMARY KEY (refNumber),\n",
        "     FOREIGN KEY ( driver_id ) REFERENCES driver ( id ),\n",
        "     FOREIGN KEY ( game_official_id ) REFERENCES game_official ( id ) \n",
        "     ) ''')"
      ],
      "metadata": {
        "id": "rJN_jAT4B33T"
      },
      "execution_count": 100,
      "outputs": []
    },
    {
      "cell_type": "code",
      "source": [
        "create = my_conn.execute(''' CREATE TABLE fatl \n",
        "    (\n",
        "     id INTEGER NOT NULL , \n",
        "     level INTEGER CHECK (level>=1 AND level<=4), \n",
        "     date DATE , \n",
        "     driver_id INTEGER NOT NULL ,\n",
        "     PRIMARY KEY (id),\n",
        "     FOREIGN KEY ( driver_id ) REFERENCES driver ( id )\n",
        "    )''')"
      ],
      "metadata": {
        "id": "3sn9ldglJFgn"
      },
      "execution_count": 101,
      "outputs": []
    },
    {
      "cell_type": "code",
      "source": [
        "create = my_conn.execute(''' CREATE TABLE ITINERARY \n",
        "    (\n",
        "     id INTEGER NOT NULL , \n",
        "     startingPoint TEXT NOT NULL , \n",
        "     droppingPoint TEXT NOT NULL , \n",
        "     booking_refNumber INTEGER NOT NULL ,\n",
        "     PRIMARY KEY (id),\n",
        "     FOREIGN KEY ( booking_refNumber ) REFERENCES booking ( refNumber )\n",
        "    )''')"
      ],
      "metadata": {
        "id": "zp8WaxAJKsPC"
      },
      "execution_count": 102,
      "outputs": []
    },
    {
      "cell_type": "code",
      "source": [
        "create = my_conn.execute(''' CREATE TABLE vehicle \n",
        "    (\n",
        "     vehicleid VARCHAR NOT NULL , \n",
        "     regid VARCHAR NOT NULL , \n",
        "     manufacturer VARCHAR , \n",
        "     model VARCHAR NOT NULL , \n",
        "     color VARCHAR , \n",
        "     odometer INTEGER , \n",
        "     passengercapacity INTEGER ,\n",
        "     PRIMARY KEY (vehicleid)\n",
        "    )''')"
      ],
      "metadata": {
        "id": "SbeUZ9SyMDo5"
      },
      "execution_count": 103,
      "outputs": []
    },
    {
      "cell_type": "code",
      "source": [
        "create = my_conn.execute(''' CREATE TABLE maintenance \n",
        "    (\n",
        "     maintid INTEGER NOT NULL , \n",
        "     actiontype CHAR (1) NOT NULL CHECK(actiontype = 'M' OR actiontype = 'R'), \n",
        "     odometer INTEGER NOT NULL , \n",
        "     finalcost INTEGER NOT NULL , \n",
        "     description TEXT , \n",
        "     vehicleid1 VARCHAR NOT NULL ,\n",
        "     PRIMARY KEY (maintid),\n",
        "     FOREIGN KEY ( vehicleid1 ) REFERENCES vehicle ( vehicleid )\n",
        "    )''')"
      ],
      "metadata": {
        "id": "62SGNmLfLfpX"
      },
      "execution_count": 104,
      "outputs": []
    },
    {
      "cell_type": "code",
      "source": [
        "create = my_conn.execute(''' CREATE TABLE stltv \n",
        "    (\n",
        "     id INTEGER NOT NULL , \n",
        "     level INTEGER NOT NULL CHECK (level<=5 AND level>=1), \n",
        "     certifDate DATE NOT NULL , \n",
        "     certifAuthority VARCHAR (20) NOT NULL , \n",
        "     driver_id INTEGER NOT NULL ,\n",
        "     PRIMARY KEY (id),\n",
        "     FOREIGN KEY ( driver_id ) REFERENCES driver ( id )\n",
        "    )''')"
      ],
      "metadata": {
        "id": "RiIVqdjOLtIR"
      },
      "execution_count": 105,
      "outputs": []
    },
    {
      "cell_type": "code",
      "source": [
        "insert = my_conn.execute(''' INSERT INTO 'vehicle' ('vehicleid','regid','manufacturer','model','color','odometer','passengercapacity') VALUES \n",
        "    ('V1000','2001 ABC','Volvo','XC90 SE','Silver','4350','4'),\n",
        "    ('V1001','2006 AFD','Kia','K7','Black','2195','4'),\n",
        "    ('V1002','2021 AHR','Tesla','2020 F','White','509','4'),\n",
        "    ('V1003','2020 DXF','Ford','Transi','Silver','974','2')\n",
        "''')"
      ],
      "metadata": {
        "id": "wDqumpZIEjba"
      },
      "execution_count": 106,
      "outputs": []
    },
    {
      "cell_type": "code",
      "source": [
        "insert = my_conn.execute(''' INSERT INTO 'maintenance' ('maintid','actiontype','odometer','finalcost','description','vehicleid1') VALUES \n",
        "    ('1','M','4350','120','changing oil and cooling fluid','V1000'),\n",
        "    ('2','R','2195','300','Changing tire','V1001'),\n",
        "    ('3','R','509','600','Broken windshield','V1002'),\n",
        "    ('4','M','974','50','Routine check','V1003')\n",
        "''')"
      ],
      "metadata": {
        "id": "-pQqdzQLCG6z"
      },
      "execution_count": 107,
      "outputs": []
    },
    {
      "cell_type": "code",
      "source": [
        "query = my_conn.execute('''select * from vehicle''')\n",
        "for row in query:\n",
        "  print(row)"
      ],
      "metadata": {
        "colab": {
          "base_uri": "https://localhost:8080/"
        },
        "id": "bruCx0ufEImU",
        "outputId": "c791c129-0019-4075-dc5a-b216d102690c"
      },
      "execution_count": 108,
      "outputs": [
        {
          "output_type": "stream",
          "name": "stdout",
          "text": [
            "('V1000', '2001 ABC', 'Volvo', 'XC90 SE', 'Silver', 4350, 4)\n",
            "('V1001', '2006 AFD', 'Kia', 'K7', 'Black', 2195, 4)\n",
            "('V1002', '2021 AHR', 'Tesla', '2020 F', 'White', 509, 4)\n",
            "('V1003', '2020 DXF', 'Ford', 'Transi', 'Silver', 974, 2)\n"
          ]
        }
      ]
    },
    {
      "cell_type": "code",
      "source": [
        "query = my_conn.execute('''select * from maintenance''')\n",
        "for row in query:\n",
        "  print(row)"
      ],
      "metadata": {
        "colab": {
          "base_uri": "https://localhost:8080/"
        },
        "outputId": "9f815310-69d3-4796-f93f-ae61a9c05501",
        "id": "c0Hrb1qKGw1c"
      },
      "execution_count": 109,
      "outputs": [
        {
          "output_type": "stream",
          "name": "stdout",
          "text": [
            "(1, 'M', 4350, 120, 'changing oil and cooling fluid', 'V1000')\n",
            "(2, 'R', 2195, 300, 'Changing tire', 'V1001')\n",
            "(3, 'R', 509, 600, 'Broken windshield', 'V1002')\n",
            "(4, 'M', 974, 50, 'Routine check', 'V1003')\n"
          ]
        }
      ]
    }
  ]
}